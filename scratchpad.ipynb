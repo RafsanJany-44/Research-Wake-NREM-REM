{
  "cells": [
    {
      "cell_type": "markdown",
      "metadata": {
        "id": "view-in-github",
        "colab_type": "text"
      },
      "source": [
        "<a href=\"https://colab.research.google.com/github/RafsanJany-44/Research-Wake-NREM-REM/blob/main/scratchpad.ipynb\" target=\"_parent\"><img src=\"https://colab.research.google.com/assets/colab-badge.svg\" alt=\"Open In Colab\"/></a>"
      ]
    },
    {
      "cell_type": "code",
      "source": [
        "!pip install imbalanced-learn\n",
        "\n",
        "from imblearn.over_sampling import SMOTE\n",
        "\n",
        "def balance(X_temp, y_temp):\n",
        "  smote = SMOTE()\n",
        "  X_temp, y_temp= smote.fit_resample(X_temp, y_temp)\n",
        "\n",
        "  return pd.concat([pd.DataFrame(X_temp), pd.DataFrame(y_temp)], axis=1)"
      ],
      "metadata": {
        "id": "xDzi8HDeZAwS",
        "outputId": "d75f97ca-c0d2-4d22-9061-ec56f7a255fa",
        "colab": {
          "base_uri": "https://localhost:8080/"
        }
      },
      "execution_count": 1,
      "outputs": [
        {
          "output_type": "stream",
          "name": "stdout",
          "text": [
            "Looking in indexes: https://pypi.org/simple, https://us-python.pkg.dev/colab-wheels/public/simple/\n",
            "Requirement already satisfied: imbalanced-learn in /usr/local/lib/python3.7/dist-packages (0.8.1)\n",
            "Requirement already satisfied: joblib>=0.11 in /usr/local/lib/python3.7/dist-packages (from imbalanced-learn) (1.1.0)\n",
            "Requirement already satisfied: numpy>=1.13.3 in /usr/local/lib/python3.7/dist-packages (from imbalanced-learn) (1.21.6)\n",
            "Requirement already satisfied: scipy>=0.19.1 in /usr/local/lib/python3.7/dist-packages (from imbalanced-learn) (1.7.3)\n",
            "Requirement already satisfied: scikit-learn>=0.24 in /usr/local/lib/python3.7/dist-packages (from imbalanced-learn) (1.0.2)\n",
            "Requirement already satisfied: threadpoolctl>=2.0.0 in /usr/local/lib/python3.7/dist-packages (from scikit-learn>=0.24->imbalanced-learn) (3.1.0)\n"
          ]
        }
      ]
    },
    {
      "cell_type": "code",
      "execution_count": 23,
      "metadata": {
        "id": "lIYdn1woOS1n",
        "colab": {
          "base_uri": "https://localhost:8080/",
          "height": 317
        },
        "outputId": "583cf6f6-b8a8-485c-89ac-06d6cdafb9c1"
      },
      "outputs": [
        {
          "output_type": "execute_result",
          "data": {
            "text/plain": [
              "  Sleep Stage  MeanP_Alpha_F4  MedianF_Alpha_F4  MeanF_Alpha_F4  \\\n",
              "0           W         0.00051           8.74146        18.48195   \n",
              "1           W         0.00040          10.24000        17.48293   \n",
              "2           W         0.00036           9.74049        17.98244   \n",
              "3           W         0.00035          10.11512        17.60780   \n",
              "4           W         0.00033           9.74049        17.60780   \n",
              "\n",
              "   Spectral Edge_Alpha_F4  PeakF_Alpha_F4  MeanP_Beta_F4  MedianF_Beta_F4  \\\n",
              "0                17.48293         8.24195        0.00071         19.73073   \n",
              "1                16.85854        10.61463        0.00051         17.23317   \n",
              "2                17.48293         8.74146        0.00047         17.60780   \n",
              "3                17.10829         9.61561        0.00047         17.35805   \n",
              "4                17.23317         8.11707        0.00043         17.23317   \n",
              "\n",
              "   MeanF_Beta_F4  Spectral Edge_Beta_F4  ...  MeanP_Delta_O2  \\\n",
              "0       29.84585               33.84195  ...         0.00724   \n",
              "1       26.34927               29.34634  ...         0.00723   \n",
              "2       25.47512               28.22244  ...         0.00230   \n",
              "3       26.47415               28.72195  ...         0.00091   \n",
              "4       25.84976               28.09756  ...         0.00175   \n",
              "\n",
              "   MedianF_Delta_O2  MeanF_Delta_O2  Spectral Edge_Delta_O2  PeakF_Delta_O2  \\\n",
              "0           0.74927         3.87122                 1.99805         0.87415   \n",
              "1           0.49951         3.74634                 1.24878         0.49951   \n",
              "2           0.62439         5.24488                 2.12293         0.62439   \n",
              "3           0.87415         6.61854                 3.12195         0.62439   \n",
              "4           0.49951         5.74439                 2.24780         0.49951   \n",
              "\n",
              "   MeanP_Gamma_O2  MedianF_Gamma_O2  MeanF_Gamma_O2  Spectral Edge_Gamma_O2  \\\n",
              "0        0.000210          35.21561        42.20878                49.95122   \n",
              "1        0.000095          34.34146        43.33268                49.95122   \n",
              "2        0.000074          34.59122        45.95512                49.95122   \n",
              "3        0.000082          32.46829        43.95707                49.95122   \n",
              "4        0.000077          33.59220        44.83122                49.95122   \n",
              "\n",
              "   PeakF_Gamma_O2  \n",
              "0        49.95122  \n",
              "1        49.95122  \n",
              "2        49.95122  \n",
              "3        49.95122  \n",
              "4        49.95122  \n",
              "\n",
              "[5 rows x 76 columns]"
            ],
            "text/html": [
              "\n",
              "  <div id=\"df-d4bedd56-5426-42a2-b8f8-8a9a6796b546\">\n",
              "    <div class=\"colab-df-container\">\n",
              "      <div>\n",
              "<style scoped>\n",
              "    .dataframe tbody tr th:only-of-type {\n",
              "        vertical-align: middle;\n",
              "    }\n",
              "\n",
              "    .dataframe tbody tr th {\n",
              "        vertical-align: top;\n",
              "    }\n",
              "\n",
              "    .dataframe thead th {\n",
              "        text-align: right;\n",
              "    }\n",
              "</style>\n",
              "<table border=\"1\" class=\"dataframe\">\n",
              "  <thead>\n",
              "    <tr style=\"text-align: right;\">\n",
              "      <th></th>\n",
              "      <th>Sleep Stage</th>\n",
              "      <th>MeanP_Alpha_F4</th>\n",
              "      <th>MedianF_Alpha_F4</th>\n",
              "      <th>MeanF_Alpha_F4</th>\n",
              "      <th>Spectral Edge_Alpha_F4</th>\n",
              "      <th>PeakF_Alpha_F4</th>\n",
              "      <th>MeanP_Beta_F4</th>\n",
              "      <th>MedianF_Beta_F4</th>\n",
              "      <th>MeanF_Beta_F4</th>\n",
              "      <th>Spectral Edge_Beta_F4</th>\n",
              "      <th>...</th>\n",
              "      <th>MeanP_Delta_O2</th>\n",
              "      <th>MedianF_Delta_O2</th>\n",
              "      <th>MeanF_Delta_O2</th>\n",
              "      <th>Spectral Edge_Delta_O2</th>\n",
              "      <th>PeakF_Delta_O2</th>\n",
              "      <th>MeanP_Gamma_O2</th>\n",
              "      <th>MedianF_Gamma_O2</th>\n",
              "      <th>MeanF_Gamma_O2</th>\n",
              "      <th>Spectral Edge_Gamma_O2</th>\n",
              "      <th>PeakF_Gamma_O2</th>\n",
              "    </tr>\n",
              "  </thead>\n",
              "  <tbody>\n",
              "    <tr>\n",
              "      <th>0</th>\n",
              "      <td>W</td>\n",
              "      <td>0.00051</td>\n",
              "      <td>8.74146</td>\n",
              "      <td>18.48195</td>\n",
              "      <td>17.48293</td>\n",
              "      <td>8.24195</td>\n",
              "      <td>0.00071</td>\n",
              "      <td>19.73073</td>\n",
              "      <td>29.84585</td>\n",
              "      <td>33.84195</td>\n",
              "      <td>...</td>\n",
              "      <td>0.00724</td>\n",
              "      <td>0.74927</td>\n",
              "      <td>3.87122</td>\n",
              "      <td>1.99805</td>\n",
              "      <td>0.87415</td>\n",
              "      <td>0.000210</td>\n",
              "      <td>35.21561</td>\n",
              "      <td>42.20878</td>\n",
              "      <td>49.95122</td>\n",
              "      <td>49.95122</td>\n",
              "    </tr>\n",
              "    <tr>\n",
              "      <th>1</th>\n",
              "      <td>W</td>\n",
              "      <td>0.00040</td>\n",
              "      <td>10.24000</td>\n",
              "      <td>17.48293</td>\n",
              "      <td>16.85854</td>\n",
              "      <td>10.61463</td>\n",
              "      <td>0.00051</td>\n",
              "      <td>17.23317</td>\n",
              "      <td>26.34927</td>\n",
              "      <td>29.34634</td>\n",
              "      <td>...</td>\n",
              "      <td>0.00723</td>\n",
              "      <td>0.49951</td>\n",
              "      <td>3.74634</td>\n",
              "      <td>1.24878</td>\n",
              "      <td>0.49951</td>\n",
              "      <td>0.000095</td>\n",
              "      <td>34.34146</td>\n",
              "      <td>43.33268</td>\n",
              "      <td>49.95122</td>\n",
              "      <td>49.95122</td>\n",
              "    </tr>\n",
              "    <tr>\n",
              "      <th>2</th>\n",
              "      <td>W</td>\n",
              "      <td>0.00036</td>\n",
              "      <td>9.74049</td>\n",
              "      <td>17.98244</td>\n",
              "      <td>17.48293</td>\n",
              "      <td>8.74146</td>\n",
              "      <td>0.00047</td>\n",
              "      <td>17.60780</td>\n",
              "      <td>25.47512</td>\n",
              "      <td>28.22244</td>\n",
              "      <td>...</td>\n",
              "      <td>0.00230</td>\n",
              "      <td>0.62439</td>\n",
              "      <td>5.24488</td>\n",
              "      <td>2.12293</td>\n",
              "      <td>0.62439</td>\n",
              "      <td>0.000074</td>\n",
              "      <td>34.59122</td>\n",
              "      <td>45.95512</td>\n",
              "      <td>49.95122</td>\n",
              "      <td>49.95122</td>\n",
              "    </tr>\n",
              "    <tr>\n",
              "      <th>3</th>\n",
              "      <td>W</td>\n",
              "      <td>0.00035</td>\n",
              "      <td>10.11512</td>\n",
              "      <td>17.60780</td>\n",
              "      <td>17.10829</td>\n",
              "      <td>9.61561</td>\n",
              "      <td>0.00047</td>\n",
              "      <td>17.35805</td>\n",
              "      <td>26.47415</td>\n",
              "      <td>28.72195</td>\n",
              "      <td>...</td>\n",
              "      <td>0.00091</td>\n",
              "      <td>0.87415</td>\n",
              "      <td>6.61854</td>\n",
              "      <td>3.12195</td>\n",
              "      <td>0.62439</td>\n",
              "      <td>0.000082</td>\n",
              "      <td>32.46829</td>\n",
              "      <td>43.95707</td>\n",
              "      <td>49.95122</td>\n",
              "      <td>49.95122</td>\n",
              "    </tr>\n",
              "    <tr>\n",
              "      <th>4</th>\n",
              "      <td>W</td>\n",
              "      <td>0.00033</td>\n",
              "      <td>9.74049</td>\n",
              "      <td>17.60780</td>\n",
              "      <td>17.23317</td>\n",
              "      <td>8.11707</td>\n",
              "      <td>0.00043</td>\n",
              "      <td>17.23317</td>\n",
              "      <td>25.84976</td>\n",
              "      <td>28.09756</td>\n",
              "      <td>...</td>\n",
              "      <td>0.00175</td>\n",
              "      <td>0.49951</td>\n",
              "      <td>5.74439</td>\n",
              "      <td>2.24780</td>\n",
              "      <td>0.49951</td>\n",
              "      <td>0.000077</td>\n",
              "      <td>33.59220</td>\n",
              "      <td>44.83122</td>\n",
              "      <td>49.95122</td>\n",
              "      <td>49.95122</td>\n",
              "    </tr>\n",
              "  </tbody>\n",
              "</table>\n",
              "<p>5 rows × 76 columns</p>\n",
              "</div>\n",
              "      <button class=\"colab-df-convert\" onclick=\"convertToInteractive('df-d4bedd56-5426-42a2-b8f8-8a9a6796b546')\"\n",
              "              title=\"Convert this dataframe to an interactive table.\"\n",
              "              style=\"display:none;\">\n",
              "        \n",
              "  <svg xmlns=\"http://www.w3.org/2000/svg\" height=\"24px\"viewBox=\"0 0 24 24\"\n",
              "       width=\"24px\">\n",
              "    <path d=\"M0 0h24v24H0V0z\" fill=\"none\"/>\n",
              "    <path d=\"M18.56 5.44l.94 2.06.94-2.06 2.06-.94-2.06-.94-.94-2.06-.94 2.06-2.06.94zm-11 1L8.5 8.5l.94-2.06 2.06-.94-2.06-.94L8.5 2.5l-.94 2.06-2.06.94zm10 10l.94 2.06.94-2.06 2.06-.94-2.06-.94-.94-2.06-.94 2.06-2.06.94z\"/><path d=\"M17.41 7.96l-1.37-1.37c-.4-.4-.92-.59-1.43-.59-.52 0-1.04.2-1.43.59L10.3 9.45l-7.72 7.72c-.78.78-.78 2.05 0 2.83L4 21.41c.39.39.9.59 1.41.59.51 0 1.02-.2 1.41-.59l7.78-7.78 2.81-2.81c.8-.78.8-2.07 0-2.86zM5.41 20L4 18.59l7.72-7.72 1.47 1.35L5.41 20z\"/>\n",
              "  </svg>\n",
              "      </button>\n",
              "      \n",
              "  <style>\n",
              "    .colab-df-container {\n",
              "      display:flex;\n",
              "      flex-wrap:wrap;\n",
              "      gap: 12px;\n",
              "    }\n",
              "\n",
              "    .colab-df-convert {\n",
              "      background-color: #E8F0FE;\n",
              "      border: none;\n",
              "      border-radius: 50%;\n",
              "      cursor: pointer;\n",
              "      display: none;\n",
              "      fill: #1967D2;\n",
              "      height: 32px;\n",
              "      padding: 0 0 0 0;\n",
              "      width: 32px;\n",
              "    }\n",
              "\n",
              "    .colab-df-convert:hover {\n",
              "      background-color: #E2EBFA;\n",
              "      box-shadow: 0px 1px 2px rgba(60, 64, 67, 0.3), 0px 1px 3px 1px rgba(60, 64, 67, 0.15);\n",
              "      fill: #174EA6;\n",
              "    }\n",
              "\n",
              "    [theme=dark] .colab-df-convert {\n",
              "      background-color: #3B4455;\n",
              "      fill: #D2E3FC;\n",
              "    }\n",
              "\n",
              "    [theme=dark] .colab-df-convert:hover {\n",
              "      background-color: #434B5C;\n",
              "      box-shadow: 0px 1px 3px 1px rgba(0, 0, 0, 0.15);\n",
              "      filter: drop-shadow(0px 1px 2px rgba(0, 0, 0, 0.3));\n",
              "      fill: #FFFFFF;\n",
              "    }\n",
              "  </style>\n",
              "\n",
              "      <script>\n",
              "        const buttonEl =\n",
              "          document.querySelector('#df-d4bedd56-5426-42a2-b8f8-8a9a6796b546 button.colab-df-convert');\n",
              "        buttonEl.style.display =\n",
              "          google.colab.kernel.accessAllowed ? 'block' : 'none';\n",
              "\n",
              "        async function convertToInteractive(key) {\n",
              "          const element = document.querySelector('#df-d4bedd56-5426-42a2-b8f8-8a9a6796b546');\n",
              "          const dataTable =\n",
              "            await google.colab.kernel.invokeFunction('convertToInteractive',\n",
              "                                                     [key], {});\n",
              "          if (!dataTable) return;\n",
              "\n",
              "          const docLinkHtml = 'Like what you see? Visit the ' +\n",
              "            '<a target=\"_blank\" href=https://colab.research.google.com/notebooks/data_table.ipynb>data table notebook</a>'\n",
              "            + ' to learn more about interactive tables.';\n",
              "          element.innerHTML = '';\n",
              "          dataTable['output_type'] = 'display_data';\n",
              "          await google.colab.output.renderOutput(dataTable, element);\n",
              "          const docLink = document.createElement('div');\n",
              "          docLink.innerHTML = docLinkHtml;\n",
              "          element.appendChild(docLink);\n",
              "        }\n",
              "      </script>\n",
              "    </div>\n",
              "  </div>\n",
              "  "
            ]
          },
          "metadata": {},
          "execution_count": 23
        }
      ],
      "source": [
        "import pandas as pd\n",
        "import numpy as np\n",
        "\n",
        "df = pd.read_csv('https://raw.githubusercontent.com/RafsanJany-44/Thesis_Project/main/All_DATA/without_sn_and_Epoch/EEG_HMC.csv')\n",
        "df.head()"
      ]
    },
    {
      "cell_type": "code",
      "source": [
        "df.iloc[:,0]"
      ],
      "metadata": {
        "id": "Ba4hzlo4TUA6"
      },
      "execution_count": null,
      "outputs": []
    },
    {
      "cell_type": "code",
      "source": [
        "\n",
        "for i in range(len(df.iloc[:,0])):\n",
        "  if df.iloc[:,0][i]=='N1' or df.iloc[:,0][i]=='N2' or df.iloc[:,0][i]==\"N3\":\n",
        "    df.iloc[:,0][i]='NREM'\n",
        "  elif df.iloc[:,0][i]='W':\n",
        "    df.iloc[:,0][i]='Wake'\n",
        "  elif df.iloc[:,0][i]='R':\n",
        "    df.iloc[:,0][i]='REM'   \n",
        "\n"
      ],
      "metadata": {
        "id": "Eb5VT5i6SVhl",
        "outputId": "6d64f183-af64-4b2a-c60d-8bc31d884260",
        "colab": {
          "base_uri": "https://localhost:8080/",
          "height": 135
        }
      },
      "execution_count": 29,
      "outputs": [
        {
          "output_type": "error",
          "ename": "SyntaxError",
          "evalue": "ignored",
          "traceback": [
            "\u001b[0;36m  File \u001b[0;32m\"<ipython-input-29-d73b9c275b75>\"\u001b[0;36m, line \u001b[0;32m4\u001b[0m\n\u001b[0;31m    elif df.iloc[:,0][i]='W':\u001b[0m\n\u001b[0m                        ^\u001b[0m\n\u001b[0;31mSyntaxError\u001b[0m\u001b[0;31m:\u001b[0m invalid syntax\n"
          ]
        }
      ]
    },
    {
      "cell_type": "code",
      "source": [
        "\n",
        "\n",
        "target=\"Sleep Stage\"\n",
        "\n",
        "classes = np.array(sorted(list(set(dataset[target]))))"
      ],
      "metadata": {
        "id": "L5RpL7dJlNYy"
      },
      "execution_count": 20,
      "outputs": []
    },
    {
      "cell_type": "code",
      "source": [
        "dataset.head()"
      ],
      "metadata": {
        "colab": {
          "base_uri": "https://localhost:8080/",
          "height": 317
        },
        "id": "5pwqHlc8l-6a",
        "outputId": "110d3144-9254-49be-c6de-b6a6a1d80abe"
      },
      "execution_count": 21,
      "outputs": [
        {
          "output_type": "execute_result",
          "data": {
            "text/plain": [
              "  Sleep Stage  MeanP_Alpha_F4  MedianF_Alpha_F4  MeanF_Alpha_F4  \\\n",
              "0           W         0.00051           8.74146        18.48195   \n",
              "1           W         0.00040          10.24000        17.48293   \n",
              "2           W         0.00036           9.74049        17.98244   \n",
              "3           W         0.00035          10.11512        17.60780   \n",
              "4           W         0.00033           9.74049        17.60780   \n",
              "\n",
              "   Spectral Edge_Alpha_F4  PeakF_Alpha_F4  MeanP_Beta_F4  MedianF_Beta_F4  \\\n",
              "0                17.48293         8.24195        0.00071         19.73073   \n",
              "1                16.85854        10.61463        0.00051         17.23317   \n",
              "2                17.48293         8.74146        0.00047         17.60780   \n",
              "3                17.10829         9.61561        0.00047         17.35805   \n",
              "4                17.23317         8.11707        0.00043         17.23317   \n",
              "\n",
              "   MeanF_Beta_F4  Spectral Edge_Beta_F4  ...  MeanP_Delta_O2  \\\n",
              "0       29.84585               33.84195  ...         0.00724   \n",
              "1       26.34927               29.34634  ...         0.00723   \n",
              "2       25.47512               28.22244  ...         0.00230   \n",
              "3       26.47415               28.72195  ...         0.00091   \n",
              "4       25.84976               28.09756  ...         0.00175   \n",
              "\n",
              "   MedianF_Delta_O2  MeanF_Delta_O2  Spectral Edge_Delta_O2  PeakF_Delta_O2  \\\n",
              "0           0.74927         3.87122                 1.99805         0.87415   \n",
              "1           0.49951         3.74634                 1.24878         0.49951   \n",
              "2           0.62439         5.24488                 2.12293         0.62439   \n",
              "3           0.87415         6.61854                 3.12195         0.62439   \n",
              "4           0.49951         5.74439                 2.24780         0.49951   \n",
              "\n",
              "   MeanP_Gamma_O2  MedianF_Gamma_O2  MeanF_Gamma_O2  Spectral Edge_Gamma_O2  \\\n",
              "0        0.000210          35.21561        42.20878                49.95122   \n",
              "1        0.000095          34.34146        43.33268                49.95122   \n",
              "2        0.000074          34.59122        45.95512                49.95122   \n",
              "3        0.000082          32.46829        43.95707                49.95122   \n",
              "4        0.000077          33.59220        44.83122                49.95122   \n",
              "\n",
              "   PeakF_Gamma_O2  \n",
              "0        49.95122  \n",
              "1        49.95122  \n",
              "2        49.95122  \n",
              "3        49.95122  \n",
              "4        49.95122  \n",
              "\n",
              "[5 rows x 76 columns]"
            ],
            "text/html": [
              "\n",
              "  <div id=\"df-9dde4963-8edd-4c87-951d-868a12af3c55\">\n",
              "    <div class=\"colab-df-container\">\n",
              "      <div>\n",
              "<style scoped>\n",
              "    .dataframe tbody tr th:only-of-type {\n",
              "        vertical-align: middle;\n",
              "    }\n",
              "\n",
              "    .dataframe tbody tr th {\n",
              "        vertical-align: top;\n",
              "    }\n",
              "\n",
              "    .dataframe thead th {\n",
              "        text-align: right;\n",
              "    }\n",
              "</style>\n",
              "<table border=\"1\" class=\"dataframe\">\n",
              "  <thead>\n",
              "    <tr style=\"text-align: right;\">\n",
              "      <th></th>\n",
              "      <th>Sleep Stage</th>\n",
              "      <th>MeanP_Alpha_F4</th>\n",
              "      <th>MedianF_Alpha_F4</th>\n",
              "      <th>MeanF_Alpha_F4</th>\n",
              "      <th>Spectral Edge_Alpha_F4</th>\n",
              "      <th>PeakF_Alpha_F4</th>\n",
              "      <th>MeanP_Beta_F4</th>\n",
              "      <th>MedianF_Beta_F4</th>\n",
              "      <th>MeanF_Beta_F4</th>\n",
              "      <th>Spectral Edge_Beta_F4</th>\n",
              "      <th>...</th>\n",
              "      <th>MeanP_Delta_O2</th>\n",
              "      <th>MedianF_Delta_O2</th>\n",
              "      <th>MeanF_Delta_O2</th>\n",
              "      <th>Spectral Edge_Delta_O2</th>\n",
              "      <th>PeakF_Delta_O2</th>\n",
              "      <th>MeanP_Gamma_O2</th>\n",
              "      <th>MedianF_Gamma_O2</th>\n",
              "      <th>MeanF_Gamma_O2</th>\n",
              "      <th>Spectral Edge_Gamma_O2</th>\n",
              "      <th>PeakF_Gamma_O2</th>\n",
              "    </tr>\n",
              "  </thead>\n",
              "  <tbody>\n",
              "    <tr>\n",
              "      <th>0</th>\n",
              "      <td>W</td>\n",
              "      <td>0.00051</td>\n",
              "      <td>8.74146</td>\n",
              "      <td>18.48195</td>\n",
              "      <td>17.48293</td>\n",
              "      <td>8.24195</td>\n",
              "      <td>0.00071</td>\n",
              "      <td>19.73073</td>\n",
              "      <td>29.84585</td>\n",
              "      <td>33.84195</td>\n",
              "      <td>...</td>\n",
              "      <td>0.00724</td>\n",
              "      <td>0.74927</td>\n",
              "      <td>3.87122</td>\n",
              "      <td>1.99805</td>\n",
              "      <td>0.87415</td>\n",
              "      <td>0.000210</td>\n",
              "      <td>35.21561</td>\n",
              "      <td>42.20878</td>\n",
              "      <td>49.95122</td>\n",
              "      <td>49.95122</td>\n",
              "    </tr>\n",
              "    <tr>\n",
              "      <th>1</th>\n",
              "      <td>W</td>\n",
              "      <td>0.00040</td>\n",
              "      <td>10.24000</td>\n",
              "      <td>17.48293</td>\n",
              "      <td>16.85854</td>\n",
              "      <td>10.61463</td>\n",
              "      <td>0.00051</td>\n",
              "      <td>17.23317</td>\n",
              "      <td>26.34927</td>\n",
              "      <td>29.34634</td>\n",
              "      <td>...</td>\n",
              "      <td>0.00723</td>\n",
              "      <td>0.49951</td>\n",
              "      <td>3.74634</td>\n",
              "      <td>1.24878</td>\n",
              "      <td>0.49951</td>\n",
              "      <td>0.000095</td>\n",
              "      <td>34.34146</td>\n",
              "      <td>43.33268</td>\n",
              "      <td>49.95122</td>\n",
              "      <td>49.95122</td>\n",
              "    </tr>\n",
              "    <tr>\n",
              "      <th>2</th>\n",
              "      <td>W</td>\n",
              "      <td>0.00036</td>\n",
              "      <td>9.74049</td>\n",
              "      <td>17.98244</td>\n",
              "      <td>17.48293</td>\n",
              "      <td>8.74146</td>\n",
              "      <td>0.00047</td>\n",
              "      <td>17.60780</td>\n",
              "      <td>25.47512</td>\n",
              "      <td>28.22244</td>\n",
              "      <td>...</td>\n",
              "      <td>0.00230</td>\n",
              "      <td>0.62439</td>\n",
              "      <td>5.24488</td>\n",
              "      <td>2.12293</td>\n",
              "      <td>0.62439</td>\n",
              "      <td>0.000074</td>\n",
              "      <td>34.59122</td>\n",
              "      <td>45.95512</td>\n",
              "      <td>49.95122</td>\n",
              "      <td>49.95122</td>\n",
              "    </tr>\n",
              "    <tr>\n",
              "      <th>3</th>\n",
              "      <td>W</td>\n",
              "      <td>0.00035</td>\n",
              "      <td>10.11512</td>\n",
              "      <td>17.60780</td>\n",
              "      <td>17.10829</td>\n",
              "      <td>9.61561</td>\n",
              "      <td>0.00047</td>\n",
              "      <td>17.35805</td>\n",
              "      <td>26.47415</td>\n",
              "      <td>28.72195</td>\n",
              "      <td>...</td>\n",
              "      <td>0.00091</td>\n",
              "      <td>0.87415</td>\n",
              "      <td>6.61854</td>\n",
              "      <td>3.12195</td>\n",
              "      <td>0.62439</td>\n",
              "      <td>0.000082</td>\n",
              "      <td>32.46829</td>\n",
              "      <td>43.95707</td>\n",
              "      <td>49.95122</td>\n",
              "      <td>49.95122</td>\n",
              "    </tr>\n",
              "    <tr>\n",
              "      <th>4</th>\n",
              "      <td>W</td>\n",
              "      <td>0.00033</td>\n",
              "      <td>9.74049</td>\n",
              "      <td>17.60780</td>\n",
              "      <td>17.23317</td>\n",
              "      <td>8.11707</td>\n",
              "      <td>0.00043</td>\n",
              "      <td>17.23317</td>\n",
              "      <td>25.84976</td>\n",
              "      <td>28.09756</td>\n",
              "      <td>...</td>\n",
              "      <td>0.00175</td>\n",
              "      <td>0.49951</td>\n",
              "      <td>5.74439</td>\n",
              "      <td>2.24780</td>\n",
              "      <td>0.49951</td>\n",
              "      <td>0.000077</td>\n",
              "      <td>33.59220</td>\n",
              "      <td>44.83122</td>\n",
              "      <td>49.95122</td>\n",
              "      <td>49.95122</td>\n",
              "    </tr>\n",
              "  </tbody>\n",
              "</table>\n",
              "<p>5 rows × 76 columns</p>\n",
              "</div>\n",
              "      <button class=\"colab-df-convert\" onclick=\"convertToInteractive('df-9dde4963-8edd-4c87-951d-868a12af3c55')\"\n",
              "              title=\"Convert this dataframe to an interactive table.\"\n",
              "              style=\"display:none;\">\n",
              "        \n",
              "  <svg xmlns=\"http://www.w3.org/2000/svg\" height=\"24px\"viewBox=\"0 0 24 24\"\n",
              "       width=\"24px\">\n",
              "    <path d=\"M0 0h24v24H0V0z\" fill=\"none\"/>\n",
              "    <path d=\"M18.56 5.44l.94 2.06.94-2.06 2.06-.94-2.06-.94-.94-2.06-.94 2.06-2.06.94zm-11 1L8.5 8.5l.94-2.06 2.06-.94-2.06-.94L8.5 2.5l-.94 2.06-2.06.94zm10 10l.94 2.06.94-2.06 2.06-.94-2.06-.94-.94-2.06-.94 2.06-2.06.94z\"/><path d=\"M17.41 7.96l-1.37-1.37c-.4-.4-.92-.59-1.43-.59-.52 0-1.04.2-1.43.59L10.3 9.45l-7.72 7.72c-.78.78-.78 2.05 0 2.83L4 21.41c.39.39.9.59 1.41.59.51 0 1.02-.2 1.41-.59l7.78-7.78 2.81-2.81c.8-.78.8-2.07 0-2.86zM5.41 20L4 18.59l7.72-7.72 1.47 1.35L5.41 20z\"/>\n",
              "  </svg>\n",
              "      </button>\n",
              "      \n",
              "  <style>\n",
              "    .colab-df-container {\n",
              "      display:flex;\n",
              "      flex-wrap:wrap;\n",
              "      gap: 12px;\n",
              "    }\n",
              "\n",
              "    .colab-df-convert {\n",
              "      background-color: #E8F0FE;\n",
              "      border: none;\n",
              "      border-radius: 50%;\n",
              "      cursor: pointer;\n",
              "      display: none;\n",
              "      fill: #1967D2;\n",
              "      height: 32px;\n",
              "      padding: 0 0 0 0;\n",
              "      width: 32px;\n",
              "    }\n",
              "\n",
              "    .colab-df-convert:hover {\n",
              "      background-color: #E2EBFA;\n",
              "      box-shadow: 0px 1px 2px rgba(60, 64, 67, 0.3), 0px 1px 3px 1px rgba(60, 64, 67, 0.15);\n",
              "      fill: #174EA6;\n",
              "    }\n",
              "\n",
              "    [theme=dark] .colab-df-convert {\n",
              "      background-color: #3B4455;\n",
              "      fill: #D2E3FC;\n",
              "    }\n",
              "\n",
              "    [theme=dark] .colab-df-convert:hover {\n",
              "      background-color: #434B5C;\n",
              "      box-shadow: 0px 1px 3px 1px rgba(0, 0, 0, 0.15);\n",
              "      filter: drop-shadow(0px 1px 2px rgba(0, 0, 0, 0.3));\n",
              "      fill: #FFFFFF;\n",
              "    }\n",
              "  </style>\n",
              "\n",
              "      <script>\n",
              "        const buttonEl =\n",
              "          document.querySelector('#df-9dde4963-8edd-4c87-951d-868a12af3c55 button.colab-df-convert');\n",
              "        buttonEl.style.display =\n",
              "          google.colab.kernel.accessAllowed ? 'block' : 'none';\n",
              "\n",
              "        async function convertToInteractive(key) {\n",
              "          const element = document.querySelector('#df-9dde4963-8edd-4c87-951d-868a12af3c55');\n",
              "          const dataTable =\n",
              "            await google.colab.kernel.invokeFunction('convertToInteractive',\n",
              "                                                     [key], {});\n",
              "          if (!dataTable) return;\n",
              "\n",
              "          const docLinkHtml = 'Like what you see? Visit the ' +\n",
              "            '<a target=\"_blank\" href=https://colab.research.google.com/notebooks/data_table.ipynb>data table notebook</a>'\n",
              "            + ' to learn more about interactive tables.';\n",
              "          element.innerHTML = '';\n",
              "          dataTable['output_type'] = 'display_data';\n",
              "          await google.colab.output.renderOutput(dataTable, element);\n",
              "          const docLink = document.createElement('div');\n",
              "          docLink.innerHTML = docLinkHtml;\n",
              "          element.appendChild(docLink);\n",
              "        }\n",
              "      </script>\n",
              "    </div>\n",
              "  </div>\n",
              "  "
            ]
          },
          "metadata": {},
          "execution_count": 21
        }
      ]
    },
    {
      "cell_type": "code",
      "source": [
        "classes"
      ],
      "metadata": {
        "colab": {
          "base_uri": "https://localhost:8080/"
        },
        "id": "5kMyYifvmKcW",
        "outputId": "d1fc2574-8c93-467a-822a-a5550635e795"
      },
      "execution_count": 22,
      "outputs": [
        {
          "output_type": "execute_result",
          "data": {
            "text/plain": [
              "array(['N1', 'N2', 'N3', 'R', 'W'], dtype='<U2')"
            ]
          },
          "metadata": {},
          "execution_count": 22
        }
      ]
    },
    {
      "cell_type": "code",
      "source": [
        "dataset[target].value_counts()"
      ],
      "metadata": {
        "colab": {
          "base_uri": "https://localhost:8080/"
        },
        "id": "D-EqiuNbmSEp",
        "outputId": "7f988415-72b8-4a30-94b1-7d9b73f36b8d"
      },
      "execution_count": 6,
      "outputs": [
        {
          "output_type": "execute_result",
          "data": {
            "text/plain": [
              "N2    39428\n",
              "N3    21290\n",
              "W     19355\n",
              "R     16465\n",
              "N1    11913\n",
              "Name: Sleep Stage, dtype: int64"
            ]
          },
          "metadata": {},
          "execution_count": 6
        }
      ]
    },
    {
      "cell_type": "code",
      "source": [
        "def graph(X,Y,horizontal,virtical,col=\"blue\",type=\"bar\"):\n",
        "  import matplotlib.pyplot as plt\n",
        "  fig, axs = plt.subplots(figsize=(horizontal, virtical), sharey=True)\n",
        "  if type==\"bar\":\n",
        "    axs.bar(X,Y,color=col)\n",
        "  elif type==\"scat\":\n",
        "    axs.scatter(X, Y,color=col)\n",
        "  else:\n",
        "    axs.plot(X, Y,color=col)"
      ],
      "metadata": {
        "id": "6DTeKFc-mfi-"
      },
      "execution_count": 7,
      "outputs": []
    },
    {
      "cell_type": "code",
      "source": [
        "x=[\"N1\",\"N2\",'N3','R','W']\n",
        "y=[11913,39428,21290,16465,19355]"
      ],
      "metadata": {
        "id": "3PBlpCocXVfl"
      },
      "execution_count": 8,
      "outputs": []
    },
    {
      "cell_type": "code",
      "source": [
        "graph(x,y,30,10)"
      ],
      "metadata": {
        "id": "TOarEaSKYJPK",
        "colab": {
          "base_uri": "https://localhost:8080/",
          "height": 452
        },
        "outputId": "dc39d581-9fa9-48fc-8aff-0ebc31059d4a"
      },
      "execution_count": 9,
      "outputs": [
        {
          "output_type": "display_data",
          "data": {
            "text/plain": [
              "<Figure size 2160x720 with 1 Axes>"
            ],
            "image/png": "[encoded data removed]"
          },
          "metadata": {
            "needs_background": "light"
          }
        }
      ]
    },
    {
      "cell_type": "code",
      "source": [
        "X = dataset.loc[:, dataset.columns!=target]\n",
        "y = dataset[target]"
      ],
      "metadata": {
        "id": "qZcgm-KRacde"
      },
      "execution_count": 10,
      "outputs": []
    },
    {
      "cell_type": "code",
      "source": [
        "#Splitting dataset into training and testing dataset\n",
        "from sklearn.model_selection import train_test_split\n",
        "X_train,X_test,y_train,y_test = train_test_split(X,y,test_size=0.33,random_state=0)"
      ],
      "metadata": {
        "id": "aNsttY81ZKs9"
      },
      "execution_count": 11,
      "outputs": []
    },
    {
      "cell_type": "code",
      "source": [
        "y_train.value_counts()"
      ],
      "metadata": {
        "id": "SLlmFomCbBf_",
        "outputId": "83cab247-cdca-4f23-bfd4-a48558f7022a",
        "colab": {
          "base_uri": "https://localhost:8080/"
        }
      },
      "execution_count": 12,
      "outputs": [
        {
          "output_type": "execute_result",
          "data": {
            "text/plain": [
              "N2    26457\n",
              "N3    14283\n",
              "W     12964\n",
              "R     10952\n",
              "N1     8006\n",
              "Name: Sleep Stage, dtype: int64"
            ]
          },
          "metadata": {},
          "execution_count": 12
        }
      ]
    },
    {
      "cell_type": "code",
      "source": [
        "new_dataset=balance(X_train,y_train)\n",
        "\n",
        "X_train = new_dataset.loc[:, new_dataset.columns!=target]\n",
        "y_train = new_dataset[target] "
      ],
      "metadata": {
        "id": "e0p6owkjasP9"
      },
      "execution_count": 13,
      "outputs": []
    },
    {
      "cell_type": "code",
      "source": [
        "y_train.value_counts()"
      ],
      "metadata": {
        "id": "eMnqUL3ta-XQ",
        "outputId": "966c38b2-5820-4b26-ecdf-8fe05569fe7f",
        "colab": {
          "base_uri": "https://localhost:8080/"
        }
      },
      "execution_count": 14,
      "outputs": [
        {
          "output_type": "execute_result",
          "data": {
            "text/plain": [
              "N2    26457\n",
              "N1    26457\n",
              "W     26457\n",
              "N3    26457\n",
              "R     26457\n",
              "Name: Sleep Stage, dtype: int64"
            ]
          },
          "metadata": {},
          "execution_count": 14
        }
      ]
    },
    {
      "cell_type": "code",
      "source": [
        "import xgboost as xgb\n",
        "from sklearn.metrics import accuracy_score\n",
        "N=1000\n",
        "k_range = range (100,N+1,50)\n",
        "scores={}\n",
        "scores_list = []\n",
        "for k in k_range:\n",
        "  xgb_classifier = xgb.XGBClassifier(n_estimators=k,random_state=0)\n",
        "  xgb_classifier.fit(X_train, y_train)\n",
        "  y_pred=xgb_classifier.predict(X_test)\n",
        "  scores[k] = accuracy_score(y_test,y_pred)\n",
        "  scores_list.append(accuracy_score(y_test,y_pred))\n",
        "  print(str(k)+\"/\"+str(N)+\" round completed......................... Accurecy: \"+str(accuracy_score(y_test,y_pred)))\n",
        "\n",
        "\n",
        "%matplotlib inline\n",
        "import matplotlib.pyplot as plt\n",
        "\n",
        "plt.figure(figsize = (25,10))\n",
        "plt.plot(k_range,scores_list)\n",
        "plt.xlabel('Value of n_estimators')\n",
        "plt.ylabel ('Testing Accuracy')\n",
        "\n",
        "\n",
        "\n",
        "print(\"The best n_estimators:\")\n",
        "best_estimator=list(scores.keys())[scores_list.index(max(scores_list))]\n",
        "print(best_estimator)"
      ],
      "metadata": {
        "id": "FWpeWBjPa_9b"
      },
      "execution_count": null,
      "outputs": []
    },
    {
      "cell_type": "code",
      "source": [
        "import xgboost as xgb\n",
        "from sklearn.metrics import accuracy_score\n",
        "N=30\n",
        "k_range = range (1,N+1)\n",
        "scores={}\n",
        "scores_list = []\n",
        "for k in k_range:\n",
        "  xgb_classifier = xgb.XGBClassifier(max_depth=k,random_state=0)\n",
        "  xgb_classifier.fit(X_train, y_train)\n",
        "  y_pred=xgb_classifier.predict(X_test)\n",
        "  scores[k] = accuracy_score(y_test,y_pred)\n",
        "  scores_list.append(accuracy_score(y_test,y_pred))\n",
        "  print(str(k)+\"/\"+str(N)+\" round completed......................... Accurecy: \"+str(accuracy_score(y_test,y_pred)))\n",
        "\n",
        "\n",
        "%matplotlib inline\n",
        "import matplotlib.pyplot as plt\n",
        "\n",
        "plt.figure(figsize = (25,10))\n",
        "plt.plot(k_range,scores_list)\n",
        "plt.xlabel('Value of n_estimators')\n",
        "plt.ylabel ('Testing Accuracy')\n",
        "\n",
        "\n",
        "\n",
        "print(\"The best depth:\")\n",
        "best_depth=list(scores.keys())[scores_list.index(max(scores_list))]\n",
        "print(best_depth)"
      ],
      "metadata": {
        "id": "a7CyUXaz402G"
      },
      "execution_count": null,
      "outputs": []
    }
  ],
  "metadata": {
    "colab": {
      "name": "scratchpad",
      "provenance": [],
      "include_colab_link": true
    },
    "kernelspec": {
      "display_name": "Python 3",
      "name": "python3"
    }
  },
  "nbformat": 4,
  "nbformat_minor": 0
}